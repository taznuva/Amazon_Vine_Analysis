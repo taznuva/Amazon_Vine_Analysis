{
  "nbformat": 4,
  "nbformat_minor": 0,
  "metadata": {
    "colab": {
      "name": "Vine_Review_Analysis.ipynb",
      "provenance": [],
      "collapsed_sections": []
    },
    "kernelspec": {
      "name": "python3",
      "display_name": "Python 3"
    },
    "language_info": {
      "name": "python"
    }
  },
  "cells": [
    {
      "cell_type": "code",
      "execution_count": 55,
      "metadata": {
        "colab": {
          "base_uri": "https://localhost:8080/"
        },
        "id": "5_t6BzLD0YCe",
        "outputId": "4c7825a9-696f-4296-fee3-6381f0cf9c62"
      },
      "outputs": [
        {
          "output_type": "stream",
          "name": "stdout",
          "text": [
            "\r0% [Working]\r            \rIgn:1 https://developer.download.nvidia.com/compute/cuda/repos/ubuntu1804/x86_64  InRelease\n",
            "\r0% [Connecting to archive.ubuntu.com (91.189.88.152)] [Connecting to security.u\r                                                                               \rIgn:2 https://developer.download.nvidia.com/compute/machine-learning/repos/ubuntu1804/x86_64  InRelease\n",
            "\r0% [Connecting to archive.ubuntu.com (91.189.88.152)] [Connecting to security.u\r                                                                               \rHit:3 https://cloud.r-project.org/bin/linux/ubuntu bionic-cran40/ InRelease\n",
            "\r0% [Connecting to archive.ubuntu.com (91.189.88.152)] [Connecting to security.u\r                                                                               \rHit:4 https://developer.download.nvidia.com/compute/cuda/repos/ubuntu1804/x86_64  Release\n",
            "Hit:5 https://developer.download.nvidia.com/compute/machine-learning/repos/ubuntu1804/x86_64  Release\n",
            "Hit:6 http://archive.ubuntu.com/ubuntu bionic InRelease\n",
            "Hit:7 http://ppa.launchpad.net/c2d4u.team/c2d4u4.0+/ubuntu bionic InRelease\n",
            "Get:8 http://security.ubuntu.com/ubuntu bionic-security InRelease [88.7 kB]\n",
            "Get:9 http://archive.ubuntu.com/ubuntu bionic-updates InRelease [88.7 kB]\n",
            "Hit:11 http://ppa.launchpad.net/cran/libgit2/ubuntu bionic InRelease\n",
            "Hit:13 http://ppa.launchpad.net/deadsnakes/ppa/ubuntu bionic InRelease\n",
            "Get:14 http://archive.ubuntu.com/ubuntu bionic-backports InRelease [74.6 kB]\n",
            "Hit:15 http://ppa.launchpad.net/graphics-drivers/ppa/ubuntu bionic InRelease\n",
            "Get:16 http://security.ubuntu.com/ubuntu bionic-security/universe amd64 Packages [1,474 kB]\n",
            "Get:17 http://security.ubuntu.com/ubuntu bionic-security/main amd64 Packages [2,596 kB]\n",
            "Get:18 http://archive.ubuntu.com/ubuntu bionic-updates/main amd64 Packages [3,036 kB]\n",
            "Get:19 http://archive.ubuntu.com/ubuntu bionic-updates/universe amd64 Packages [2,252 kB]\n",
            "Fetched 9,610 kB in 3s (3,213 kB/s)\n",
            "Reading package lists... Done\n"
          ]
        }
      ],
      "source": [
        "import os\n",
        "# Find the latest version of spark 3.0 from http://www.apache.org/dist/spark/ and enter as the spark version\n",
        "# For example:\n",
        "# spark_version = 'spark-3.0.3'\n",
        "spark_version = 'spark-3.2.1'\n",
        "os.environ['SPARK_VERSION']=spark_version\n",
        "\n",
        "# Install Spark and Java\n",
        "!apt-get update\n",
        "!apt-get install openjdk-11-jdk-headless -qq > /dev/null\n",
        "!wget -q http://www.apache.org/dist/spark/$SPARK_VERSION/$SPARK_VERSION-bin-hadoop2.7.tgz\n",
        "!tar xf $SPARK_VERSION-bin-hadoop2.7.tgz\n",
        "!pip install -q findspark\n",
        "\n",
        "# Set Environment Variables\n",
        "import os\n",
        "os.environ[\"JAVA_HOME\"] = \"/usr/lib/jvm/java-11-openjdk-amd64\"\n",
        "os.environ[\"SPARK_HOME\"] = f\"/content/{spark_version}-bin-hadoop2.7\"\n",
        "\n",
        "# Start a SparkSession\n",
        "import findspark\n",
        "findspark.init()"
      ]
    },
    {
      "cell_type": "code",
      "source": [
        "# Download the Postgres driver that will allow Spark to interact with Postgres.\n",
        "!wget https://jdbc.postgresql.org/download/postgresql-42.2.16.jar"
      ],
      "metadata": {
        "colab": {
          "base_uri": "https://localhost:8080/"
        },
        "id": "j7138rU80w3h",
        "outputId": "9b3b85ae-3ae7-4160-f971-b53063afdccc"
      },
      "execution_count": 56,
      "outputs": [
        {
          "output_type": "stream",
          "name": "stdout",
          "text": [
            "--2022-03-06 01:18:49--  https://jdbc.postgresql.org/download/postgresql-42.2.16.jar\n",
            "Resolving jdbc.postgresql.org (jdbc.postgresql.org)... 72.32.157.228, 2001:4800:3e1:1::228\n",
            "Connecting to jdbc.postgresql.org (jdbc.postgresql.org)|72.32.157.228|:443... connected.\n",
            "HTTP request sent, awaiting response... 200 OK\n",
            "Length: 1002883 (979K) [application/java-archive]\n",
            "Saving to: ‘postgresql-42.2.16.jar.1’\n",
            "\n",
            "postgresql-42.2.16. 100%[===================>] 979.38K  6.15MB/s    in 0.2s    \n",
            "\n",
            "2022-03-06 01:18:49 (6.15 MB/s) - ‘postgresql-42.2.16.jar.1’ saved [1002883/1002883]\n",
            "\n"
          ]
        }
      ]
    },
    {
      "cell_type": "code",
      "source": [
        "from pyspark.sql import SparkSession\n",
        "spark = SparkSession.builder.appName(\"M16-Amazon-Challenge\").config(\"spark.driver.extraClassPath\",\"/content/postgresql-42.2.16.jar\").getOrCreate()"
      ],
      "metadata": {
        "id": "y3lKzk3a0xcU"
      },
      "execution_count": 57,
      "outputs": []
    },
    {
      "cell_type": "code",
      "source": [
        "from pyspark import SparkFiles\n",
        "url = \"https://s3.amazonaws.com/amazon-reviews-pds/tsv/amazon_reviews_us_Beauty_v1_00.tsv.gz\"\n",
        "spark.sparkContext.addFile(url)\n",
        "df = spark.read.option(\"encoding\", \"UTF-8\").csv(SparkFiles.get(\"\"), sep=\"\\t\", header=True, inferSchema=True)\n",
        "df.show()"
      ],
      "metadata": {
        "colab": {
          "base_uri": "https://localhost:8080/"
        },
        "id": "Edz4QC9d01RK",
        "outputId": "c2c305ec-52ea-4b1c-cfa3-43dabc9c968b"
      },
      "execution_count": 58,
      "outputs": [
        {
          "output_type": "stream",
          "name": "stdout",
          "text": [
            "+-----------+-----------+--------------+----------+--------------+--------------------+----------------+-----------+-------------+-----------+----+-----------------+--------------------+---------------------+-----------+\n",
            "|marketplace|customer_id|     review_id|product_id|product_parent|       product_title|product_category|star_rating|helpful_votes|total_votes|vine|verified_purchase|     review_headline|          review_body|review_date|\n",
            "+-----------+-----------+--------------+----------+--------------+--------------------+----------------+-----------+-------------+-----------+----+-----------------+--------------------+---------------------+-----------+\n",
            "|         US|    1797882|R3I2DHQBR577SS|B001ANOOOE|       2102612|The Naked Bee Vit...|          Beauty|          5|            0|          0|   N|                Y|          Five Stars| Love this, excell...| 2015-08-31|\n",
            "|         US|   18381298|R1QNE9NQFJC2Y4|B0016J22EQ|     106393691|Alba Botanica Sun...|          Beauty|          5|            0|          0|   N|                Y|Thank you Alba Bo...| The great thing a...| 2015-08-31|\n",
            "|         US|   19242472|R3LIDG2Q4LJBAO|B00HU6UQAG|     375449471|Elysee Infusion S...|          Beauty|          5|            0|          0|   N|                Y|          Five Stars| Great Product, I'...| 2015-08-31|\n",
            "|         US|   19551372|R3KSZHPAEVPEAL|B002HWS7RM|     255651889|Diane D722 Color,...|          Beauty|          5|            0|          0|   N|                Y|          GOOD DEAL!| I use them as sho...| 2015-08-31|\n",
            "|         US|   14802407| RAI2OIG50KZ43|B00SM99KWU|     116158747|Biore UV Aqua Ric...|          Beauty|          5|            0|          0|   N|                Y|this soaks in qui...| This is my go-to ...| 2015-08-31|\n",
            "|         US|    2909389|R1R30FA4RB5P54|B000NYL1Z6|     166146615|Murad Clarifying ...|          Beauty|          4|            0|          0|   N|                Y|          Four Stars|                 Good| 2015-08-31|\n",
            "|         US|   19397215|R30IJKCGJBGPJH|B001SYWTFG|     111742328|CoverGirl Queen C...|          Beauty|          5|            0|          0|   N|                Y|            Good buy| Great eyeliner, d...| 2015-08-31|\n",
            "|         US|    3195210|R18GLJJPVQ1OVH|B005F2EVMQ|     255803087|Bifesta Mandom Ey...|          Beauty|          5|            0|          0|   N|                Y|          Five Stars|Best makeup remover！| 2015-08-31|\n",
            "|         US|   52216383| R8TVYIJXLYJT0|B00M1SUW7K|     246816549|Can You Handlebar...|          Beauty|          5|            0|          0|   N|                Y|Tame the wild mus...| This is a great p...| 2015-08-31|\n",
            "|         US|   10278216|R1CJGF6M3PVHEZ|B001KYQA1S|       9612905|Maybelline Great ...|          Beauty|          1|            0|          2|   N|                Y|but it's like hav...| I thought it woul...| 2015-08-31|\n",
            "|         US|   24655453|R2A30ALEGLMCGN|B00SAQ9DZY|     292127037|12 New, High Qual...|          Beauty|          4|            1|          1|   N|                Y|        Good Product| These are great f...| 2015-08-31|\n",
            "|         US|   30788223|R134GP1Y3EQZ1L|B00HFQQ0VU|     311309827|Waterpik Aquarius...|          Beauty|          5|            0|          0|   N|                Y| Optimum Oral Health| Just got this.  N...| 2015-08-31|\n",
            "|         US|   11257536| R6CE3SOIUJGP4|B00PYL8MAA|     390030149|Proganix Agave Ne...|          Beauty|          4|            1|          1|   N|                N|   Love this cream !| Wish I had discov...| 2015-08-31|\n",
            "|         US|   29605778|R37CDLQZUPDZVM|B00D9NV2D4|     794858888|         Shea Butter|          Beauty|          5|            0|          0|   N|                Y|It works so much ...| I bought this to ...| 2015-08-31|\n",
            "|         US|   41238422|R1KH9XCK6GYT26|B008Y9M412|     874223919|Etude House Fresh...|          Beauty|          5|            0|          0|   N|                Y|          Five Stars| The tint is aweso...| 2015-08-31|\n",
            "|         US|   23620123|R3I4BQ6654MQNA|B00FWXBLHG|     464001209|Vintage Lil' Spon...|          Beauty|          5|            1|          1|   N|                Y|Great product, fa...| I'm in love with ...| 2015-08-31|\n",
            "|         US|   25564245|R3LUPG356F1D40|B003KL8CB0|     328680790|Jenna Jameson Hea...|          Beauty|          5|            3|          3|   N|                N|Does not smell ch...| I was given this ...| 2015-08-31|\n",
            "|         US|     801375|R3HNVRTHL9S2ZB|B006R2LNV0|     620737389|Korean Cosmetics_...|          Beauty|          5|            0|          0|   N|                N|          Five Stars| Magical everybody...| 2015-08-31|\n",
            "|         US|    9478730| R5HKL5RD4IUT8|B00SMIIR0W|     351973146|Schick Hydro Silk...|          Beauty|          5|            0|          0|   N|                Y|Love this Razor/T...| Works fantastic! ...| 2015-08-31|\n",
            "|         US|   18418407|R37Z8NBTHPR853|B003UKKH6O|      10034795|Oral-B Vitality P...|          Beauty|          5|            0|          0|   N|                Y|          Five Stars| excellent battery...| 2015-08-31|\n",
            "+-----------+-----------+--------------+----------+--------------+--------------------+----------------+-----------+-------------+-----------+----+-----------------+--------------------+---------------------+-----------+\n",
            "only showing top 20 rows\n",
            "\n"
          ]
        }
      ]
    },
    {
      "cell_type": "code",
      "source": [
        "from pyspark.sql.functions import to_date\n",
        "# Read in the Review dataset as a DataFrame\n",
        "review_df = df.select([\"customer_id\", \"review_id\", \"product_id\", \"product_parent\",\n",
        "                       \"product_title\", \"star_rating\", \"helpful_votes\", \"total_votes\",\n",
        "                       \"vine\", \"verified_purchase\", \"review_date\"])\n",
        "review_df.show()"
      ],
      "metadata": {
        "colab": {
          "base_uri": "https://localhost:8080/"
        },
        "id": "uxslWgWO011L",
        "outputId": "44f3a70c-113c-473d-d10a-d29d5807125b"
      },
      "execution_count": 59,
      "outputs": [
        {
          "output_type": "stream",
          "name": "stdout",
          "text": [
            "+-----------+--------------+----------+--------------+--------------------+-----------+-------------+-----------+----+-----------------+-----------+\n",
            "|customer_id|     review_id|product_id|product_parent|       product_title|star_rating|helpful_votes|total_votes|vine|verified_purchase|review_date|\n",
            "+-----------+--------------+----------+--------------+--------------------+-----------+-------------+-----------+----+-----------------+-----------+\n",
            "|    1797882|R3I2DHQBR577SS|B001ANOOOE|       2102612|The Naked Bee Vit...|          5|            0|          0|   N|                Y| 2015-08-31|\n",
            "|   18381298|R1QNE9NQFJC2Y4|B0016J22EQ|     106393691|Alba Botanica Sun...|          5|            0|          0|   N|                Y| 2015-08-31|\n",
            "|   19242472|R3LIDG2Q4LJBAO|B00HU6UQAG|     375449471|Elysee Infusion S...|          5|            0|          0|   N|                Y| 2015-08-31|\n",
            "|   19551372|R3KSZHPAEVPEAL|B002HWS7RM|     255651889|Diane D722 Color,...|          5|            0|          0|   N|                Y| 2015-08-31|\n",
            "|   14802407| RAI2OIG50KZ43|B00SM99KWU|     116158747|Biore UV Aqua Ric...|          5|            0|          0|   N|                Y| 2015-08-31|\n",
            "|    2909389|R1R30FA4RB5P54|B000NYL1Z6|     166146615|Murad Clarifying ...|          4|            0|          0|   N|                Y| 2015-08-31|\n",
            "|   19397215|R30IJKCGJBGPJH|B001SYWTFG|     111742328|CoverGirl Queen C...|          5|            0|          0|   N|                Y| 2015-08-31|\n",
            "|    3195210|R18GLJJPVQ1OVH|B005F2EVMQ|     255803087|Bifesta Mandom Ey...|          5|            0|          0|   N|                Y| 2015-08-31|\n",
            "|   52216383| R8TVYIJXLYJT0|B00M1SUW7K|     246816549|Can You Handlebar...|          5|            0|          0|   N|                Y| 2015-08-31|\n",
            "|   10278216|R1CJGF6M3PVHEZ|B001KYQA1S|       9612905|Maybelline Great ...|          1|            0|          2|   N|                Y| 2015-08-31|\n",
            "|   24655453|R2A30ALEGLMCGN|B00SAQ9DZY|     292127037|12 New, High Qual...|          4|            1|          1|   N|                Y| 2015-08-31|\n",
            "|   30788223|R134GP1Y3EQZ1L|B00HFQQ0VU|     311309827|Waterpik Aquarius...|          5|            0|          0|   N|                Y| 2015-08-31|\n",
            "|   11257536| R6CE3SOIUJGP4|B00PYL8MAA|     390030149|Proganix Agave Ne...|          4|            1|          1|   N|                N| 2015-08-31|\n",
            "|   29605778|R37CDLQZUPDZVM|B00D9NV2D4|     794858888|         Shea Butter|          5|            0|          0|   N|                Y| 2015-08-31|\n",
            "|   41238422|R1KH9XCK6GYT26|B008Y9M412|     874223919|Etude House Fresh...|          5|            0|          0|   N|                Y| 2015-08-31|\n",
            "|   23620123|R3I4BQ6654MQNA|B00FWXBLHG|     464001209|Vintage Lil' Spon...|          5|            1|          1|   N|                Y| 2015-08-31|\n",
            "|   25564245|R3LUPG356F1D40|B003KL8CB0|     328680790|Jenna Jameson Hea...|          5|            3|          3|   N|                N| 2015-08-31|\n",
            "|     801375|R3HNVRTHL9S2ZB|B006R2LNV0|     620737389|Korean Cosmetics_...|          5|            0|          0|   N|                N| 2015-08-31|\n",
            "|    9478730| R5HKL5RD4IUT8|B00SMIIR0W|     351973146|Schick Hydro Silk...|          5|            0|          0|   N|                Y| 2015-08-31|\n",
            "|   18418407|R37Z8NBTHPR853|B003UKKH6O|      10034795|Oral-B Vitality P...|          5|            0|          0|   N|                Y| 2015-08-31|\n",
            "+-----------+--------------+----------+--------------+--------------------+-----------+-------------+-----------+----+-----------------+-----------+\n",
            "only showing top 20 rows\n",
            "\n"
          ]
        }
      ]
    },
    {
      "cell_type": "code",
      "source": [
        "review_df.count()\n",
        "review_df.dropna()\n",
        "review_df.dropDuplicates()\n",
        "review_df.count()"
      ],
      "metadata": {
        "colab": {
          "base_uri": "https://localhost:8080/"
        },
        "id": "fRVfhrhj02Mx",
        "outputId": "7ad2cdc3-a1cd-430c-db21-e9afaaf35468"
      },
      "execution_count": 60,
      "outputs": [
        {
          "output_type": "execute_result",
          "data": {
            "text/plain": [
              "5115666"
            ]
          },
          "metadata": {},
          "execution_count": 60
        }
      ]
    },
    {
      "cell_type": "code",
      "source": [
        "# Create the vine_table. DataFrame\n",
        "from pyspark.sql.types import IntegerType\n",
        "review_df = review_df.withColumn(\"star_rating\", review_df[\"star_rating\"].cast(IntegerType()))\n",
        "vine_df = review_df.select([\"review_id\", \"star_rating\", \"helpful_votes\", \"total_votes\", \"vine\", \"verified_purchase\"])\n",
        "vine_df.show()"
      ],
      "metadata": {
        "colab": {
          "base_uri": "https://localhost:8080/"
        },
        "id": "_Lu_9D5502jC",
        "outputId": "2da0cf5b-b45f-4728-f6b8-a8b8ccf8117a"
      },
      "execution_count": 61,
      "outputs": [
        {
          "output_type": "stream",
          "name": "stdout",
          "text": [
            "+--------------+-----------+-------------+-----------+----+-----------------+\n",
            "|     review_id|star_rating|helpful_votes|total_votes|vine|verified_purchase|\n",
            "+--------------+-----------+-------------+-----------+----+-----------------+\n",
            "|R3I2DHQBR577SS|          5|            0|          0|   N|                Y|\n",
            "|R1QNE9NQFJC2Y4|          5|            0|          0|   N|                Y|\n",
            "|R3LIDG2Q4LJBAO|          5|            0|          0|   N|                Y|\n",
            "|R3KSZHPAEVPEAL|          5|            0|          0|   N|                Y|\n",
            "| RAI2OIG50KZ43|          5|            0|          0|   N|                Y|\n",
            "|R1R30FA4RB5P54|          4|            0|          0|   N|                Y|\n",
            "|R30IJKCGJBGPJH|          5|            0|          0|   N|                Y|\n",
            "|R18GLJJPVQ1OVH|          5|            0|          0|   N|                Y|\n",
            "| R8TVYIJXLYJT0|          5|            0|          0|   N|                Y|\n",
            "|R1CJGF6M3PVHEZ|          1|            0|          2|   N|                Y|\n",
            "|R2A30ALEGLMCGN|          4|            1|          1|   N|                Y|\n",
            "|R134GP1Y3EQZ1L|          5|            0|          0|   N|                Y|\n",
            "| R6CE3SOIUJGP4|          4|            1|          1|   N|                N|\n",
            "|R37CDLQZUPDZVM|          5|            0|          0|   N|                Y|\n",
            "|R1KH9XCK6GYT26|          5|            0|          0|   N|                Y|\n",
            "|R3I4BQ6654MQNA|          5|            1|          1|   N|                Y|\n",
            "|R3LUPG356F1D40|          5|            3|          3|   N|                N|\n",
            "|R3HNVRTHL9S2ZB|          5|            0|          0|   N|                N|\n",
            "| R5HKL5RD4IUT8|          5|            0|          0|   N|                Y|\n",
            "|R37Z8NBTHPR853|          5|            0|          0|   N|                Y|\n",
            "+--------------+-----------+-------------+-----------+----+-----------------+\n",
            "only showing top 20 rows\n",
            "\n"
          ]
        }
      ]
    },
    {
      "cell_type": "code",
      "source": [
        "# Filter the data and create a new DataFrame to retrieve all rows where \n",
        "# total_votes count is equal to or greater than 20\n",
        "total_votes_df = vine_df.filter(\"total_votes >= 20\").select(['review_id','star_rating','helpful_votes',\n",
        "                                                            'total_votes','vine','verified_purchase'])\n",
        "total_votes_df.show()"
      ],
      "metadata": {
        "colab": {
          "base_uri": "https://localhost:8080/"
        },
        "id": "gCZzmI_53IW_",
        "outputId": "41f0dd89-0b8a-4144-9a85-c3e7afd414e5"
      },
      "execution_count": 62,
      "outputs": [
        {
          "output_type": "stream",
          "name": "stdout",
          "text": [
            "+--------------+-----------+-------------+-----------+----+-----------------+\n",
            "|     review_id|star_rating|helpful_votes|total_votes|vine|verified_purchase|\n",
            "+--------------+-----------+-------------+-----------+----+-----------------+\n",
            "|R2QRUE9REK8OUC|          5|           18|         23|   N|                Y|\n",
            "|R2POXRW6PXHXZG|          5|           25|         30|   N|                Y|\n",
            "| RZN43XRZ89IIJ|          3|           10|         27|   N|                N|\n",
            "|R29Q748WSHZ3SN|          5|           23|         24|   N|                Y|\n",
            "| R46UL5G5HEPRZ|          5|           18|         20|   N|                N|\n",
            "|R2UQHSNWU6WTZX|          5|           74|         76|   N|                N|\n",
            "|R2HSRI3D6E2M9Y|          5|           69|         71|   N|                Y|\n",
            "|R17ARFSDV555EW|          1|           29|         29|   N|                Y|\n",
            "|R3GL5156FFEDQA|          5|           20|         21|   N|                Y|\n",
            "|R29KQJC9PIYWQS|          5|           25|         26|   N|                Y|\n",
            "| RYWUJT2A33VJH|          5|           20|         22|   N|                N|\n",
            "|R1KH5L45CWI30I|          5|           19|         20|   N|                N|\n",
            "|R1RKEBF47UEIVH|          5|           26|         30|   N|                N|\n",
            "|R3N1SCGIU1LV1U|          1|            2|         20|   N|                Y|\n",
            "|R2WIB8BHF77XIG|          4|           69|         78|   N|                N|\n",
            "|R20T4C0DA38YBD|          5|           22|         23|   N|                Y|\n",
            "| REUKY9DLNJXYF|          4|           21|         22|   N|                Y|\n",
            "|R2OH5QLD7MGJTG|          5|           48|         48|   N|                Y|\n",
            "|R179M7NOS1365W|          5|           88|         91|   N|                Y|\n",
            "|R2NPNCGM6T1JBA|          3|          253|        259|   N|                Y|\n",
            "+--------------+-----------+-------------+-----------+----+-----------------+\n",
            "only showing top 20 rows\n",
            "\n"
          ]
        }
      ]
    },
    {
      "cell_type": "code",
      "source": [
        "# Filter DataFrame created in Step 1 and create a new DataFrame to retrieve all \n",
        "# the rows where the number of helpful_votes divided by total_votes is equal to or greater than 50%\n",
        "helpful_votes_df = total_votes_df\n",
        "helpful_votes_df = helpful_votes_df.withColumn('percentage', helpful_votes_df['helpful_votes']/helpful_votes_df['total_votes']*100)\n",
        "helpful_votes_df.filter(\"percentage >= 50\").select(['review_id','star_rating','helpful_votes',\n",
        "                                                            'total_votes','vine','verified_purchase','percentage'])\n",
        "helpful_votes_df.show()\n"
      ],
      "metadata": {
        "colab": {
          "base_uri": "https://localhost:8080/"
        },
        "id": "uiBqilRP3ItU",
        "outputId": "27ac640a-3012-4098-f942-cace78f1e9ae"
      },
      "execution_count": 63,
      "outputs": [
        {
          "output_type": "stream",
          "name": "stdout",
          "text": [
            "+--------------+-----------+-------------+-----------+----+-----------------+-----------------+\n",
            "|     review_id|star_rating|helpful_votes|total_votes|vine|verified_purchase|       percentage|\n",
            "+--------------+-----------+-------------+-----------+----+-----------------+-----------------+\n",
            "|R2QRUE9REK8OUC|          5|           18|         23|   N|                Y|78.26086956521739|\n",
            "|R2POXRW6PXHXZG|          5|           25|         30|   N|                Y|83.33333333333334|\n",
            "| RZN43XRZ89IIJ|          3|           10|         27|   N|                N|37.03703703703704|\n",
            "|R29Q748WSHZ3SN|          5|           23|         24|   N|                Y|95.83333333333334|\n",
            "| R46UL5G5HEPRZ|          5|           18|         20|   N|                N|             90.0|\n",
            "|R2UQHSNWU6WTZX|          5|           74|         76|   N|                N|97.36842105263158|\n",
            "|R2HSRI3D6E2M9Y|          5|           69|         71|   N|                Y| 97.1830985915493|\n",
            "|R17ARFSDV555EW|          1|           29|         29|   N|                Y|            100.0|\n",
            "|R3GL5156FFEDQA|          5|           20|         21|   N|                Y|95.23809523809523|\n",
            "|R29KQJC9PIYWQS|          5|           25|         26|   N|                Y|96.15384615384616|\n",
            "| RYWUJT2A33VJH|          5|           20|         22|   N|                N| 90.9090909090909|\n",
            "|R1KH5L45CWI30I|          5|           19|         20|   N|                N|             95.0|\n",
            "|R1RKEBF47UEIVH|          5|           26|         30|   N|                N|86.66666666666667|\n",
            "|R3N1SCGIU1LV1U|          1|            2|         20|   N|                Y|             10.0|\n",
            "|R2WIB8BHF77XIG|          4|           69|         78|   N|                N|88.46153846153845|\n",
            "|R20T4C0DA38YBD|          5|           22|         23|   N|                Y|95.65217391304348|\n",
            "| REUKY9DLNJXYF|          4|           21|         22|   N|                Y|95.45454545454545|\n",
            "|R2OH5QLD7MGJTG|          5|           48|         48|   N|                Y|            100.0|\n",
            "|R179M7NOS1365W|          5|           88|         91|   N|                Y| 96.7032967032967|\n",
            "|R2NPNCGM6T1JBA|          3|          253|        259|   N|                Y|97.68339768339769|\n",
            "+--------------+-----------+-------------+-----------+----+-----------------+-----------------+\n",
            "only showing top 20 rows\n",
            "\n"
          ]
        }
      ]
    },
    {
      "cell_type": "code",
      "source": [
        "# Filter the DataFrame created in Step 2, and create a new DataFrame that retrieves all \n",
        "# the rows where a review was written as part of the Vine program (paid), vine == 'Y'\n",
        "paid_df = helpful_votes_df.filter(\"vine == 'Y'\")\n",
        "paid_df.show()"
      ],
      "metadata": {
        "colab": {
          "base_uri": "https://localhost:8080/"
        },
        "id": "w9_hLb6l3JAg",
        "outputId": "00cf1d1b-c91c-48eb-f14f-bc392ca6472d"
      },
      "execution_count": 64,
      "outputs": [
        {
          "output_type": "stream",
          "name": "stdout",
          "text": [
            "+--------------+-----------+-------------+-----------+----+-----------------+-----------------+\n",
            "|     review_id|star_rating|helpful_votes|total_votes|vine|verified_purchase|       percentage|\n",
            "+--------------+-----------+-------------+-----------+----+-----------------+-----------------+\n",
            "|R106V6GUNWRSSS|          5|          857|        889|   Y|                N|96.40044994375702|\n",
            "|R37N8KZS48W36A|          5|           36|         37|   Y|                N| 97.2972972972973|\n",
            "|R1LNEQ2MQE03PD|          5|           49|         66|   Y|                N|74.24242424242425|\n",
            "|R1ECPWPUNK36ES|          5|           29|         31|   Y|                N|93.54838709677419|\n",
            "|R16BUM7UQZLOM6|          3|          107|        112|   Y|                N|95.53571428571429|\n",
            "| R7NWIOCA5RVPR|          5|           19|         26|   Y|                N|73.07692307692307|\n",
            "|R3NTGOCUZB33JK|          5|           40|         47|   Y|                Y| 85.1063829787234|\n",
            "| RQX3RHGMG7UBN|          5|          186|        200|   Y|                N|             93.0|\n",
            "|R3E6QYKZDST042|          4|           33|         39|   Y|                N|84.61538461538461|\n",
            "|R2GR106PWUN85O|          4|           36|         39|   Y|                N| 92.3076923076923|\n",
            "| R5AJK8HCOKXV5|          4|           20|         23|   Y|                N|86.95652173913044|\n",
            "| RCHD0PMJO6Y52|          3|           17|         20|   Y|                N|             85.0|\n",
            "|R1AF6ANE5JFP4D|          5|           50|         55|   Y|                N| 90.9090909090909|\n",
            "|R2FKVTMWD52KEY|          4|          265|        276|   Y|                N|96.01449275362319|\n",
            "| RZUT8OQAGWOYE|          5|           46|         49|   Y|                N|93.87755102040816|\n",
            "| RW89H46BTJJWI|          2|           20|         20|   Y|                N|            100.0|\n",
            "| RQ0N3J1IZKGMA|          1|           63|         63|   Y|                N|            100.0|\n",
            "|R1Z88KA5VANTXS|          2|           42|         47|   Y|                N|89.36170212765957|\n",
            "|R3M9NW8LPEKTWX|          5|           20|         21|   Y|                Y|95.23809523809523|\n",
            "|R16QHBYJJ01R4P|          5|           23|         24|   Y|                N|95.83333333333334|\n",
            "+--------------+-----------+-------------+-----------+----+-----------------+-----------------+\n",
            "only showing top 20 rows\n",
            "\n"
          ]
        }
      ]
    },
    {
      "cell_type": "code",
      "source": [
        "# Repeat previous step except with vine == 'N'\n",
        "unpaid_df = helpful_votes_df.filter(\"vine == 'N'\")\n",
        "unpaid_df.show()"
      ],
      "metadata": {
        "colab": {
          "base_uri": "https://localhost:8080/"
        },
        "id": "pr6zmbo03JTi",
        "outputId": "1192b55b-14e3-4bdb-e6dc-83f87d474788"
      },
      "execution_count": 65,
      "outputs": [
        {
          "output_type": "stream",
          "name": "stdout",
          "text": [
            "+--------------+-----------+-------------+-----------+----+-----------------+-----------------+\n",
            "|     review_id|star_rating|helpful_votes|total_votes|vine|verified_purchase|       percentage|\n",
            "+--------------+-----------+-------------+-----------+----+-----------------+-----------------+\n",
            "|R2QRUE9REK8OUC|          5|           18|         23|   N|                Y|78.26086956521739|\n",
            "|R2POXRW6PXHXZG|          5|           25|         30|   N|                Y|83.33333333333334|\n",
            "| RZN43XRZ89IIJ|          3|           10|         27|   N|                N|37.03703703703704|\n",
            "|R29Q748WSHZ3SN|          5|           23|         24|   N|                Y|95.83333333333334|\n",
            "| R46UL5G5HEPRZ|          5|           18|         20|   N|                N|             90.0|\n",
            "|R2UQHSNWU6WTZX|          5|           74|         76|   N|                N|97.36842105263158|\n",
            "|R2HSRI3D6E2M9Y|          5|           69|         71|   N|                Y| 97.1830985915493|\n",
            "|R17ARFSDV555EW|          1|           29|         29|   N|                Y|            100.0|\n",
            "|R3GL5156FFEDQA|          5|           20|         21|   N|                Y|95.23809523809523|\n",
            "|R29KQJC9PIYWQS|          5|           25|         26|   N|                Y|96.15384615384616|\n",
            "| RYWUJT2A33VJH|          5|           20|         22|   N|                N| 90.9090909090909|\n",
            "|R1KH5L45CWI30I|          5|           19|         20|   N|                N|             95.0|\n",
            "|R1RKEBF47UEIVH|          5|           26|         30|   N|                N|86.66666666666667|\n",
            "|R3N1SCGIU1LV1U|          1|            2|         20|   N|                Y|             10.0|\n",
            "|R2WIB8BHF77XIG|          4|           69|         78|   N|                N|88.46153846153845|\n",
            "|R20T4C0DA38YBD|          5|           22|         23|   N|                Y|95.65217391304348|\n",
            "| REUKY9DLNJXYF|          4|           21|         22|   N|                Y|95.45454545454545|\n",
            "|R2OH5QLD7MGJTG|          5|           48|         48|   N|                Y|            100.0|\n",
            "|R179M7NOS1365W|          5|           88|         91|   N|                Y| 96.7032967032967|\n",
            "|R2NPNCGM6T1JBA|          3|          253|        259|   N|                Y|97.68339768339769|\n",
            "+--------------+-----------+-------------+-----------+----+-----------------+-----------------+\n",
            "only showing top 20 rows\n",
            "\n"
          ]
        }
      ]
    },
    {
      "cell_type": "code",
      "source": [
        "# total number of reviews, number of 5-star reviews, and the percentage of \n",
        "# 5-star reviews are calculated for all Vine and non-Vine reviews\n",
        "from pyspark.sql.functions import count, sum\n",
        "total_paidReviews = paid_df.groupby(\"review_id\").agg(count(\"review_id\"))\n",
        "total_paid = total_paidReviews.count()\n",
        "total_paid"
      ],
      "metadata": {
        "colab": {
          "base_uri": "https://localhost:8080/"
        },
        "id": "UcEtsP_C3J5W",
        "outputId": "6b6cec11-7053-4b3c-b5dd-b76a597fbc94"
      },
      "execution_count": 80,
      "outputs": [
        {
          "output_type": "execute_result",
          "data": {
            "text/plain": [
              "658"
            ]
          },
          "metadata": {},
          "execution_count": 80
        }
      ]
    },
    {
      "cell_type": "code",
      "source": [
        "total_unpaidReviews = unpaid_df.groupby(\"review_id\").agg(count(\"review_id\"))\n",
        "total_unpaid = total_unpaidReviews.count()\n",
        "total_unpaid"
      ],
      "metadata": {
        "colab": {
          "base_uri": "https://localhost:8080/"
        },
        "id": "jiDArmsc1TLc",
        "outputId": "4ed8a05d-44cf-43a3-f628-69f12cb08555"
      },
      "execution_count": 82,
      "outputs": [
        {
          "output_type": "execute_result",
          "data": {
            "text/plain": [
              "78569"
            ]
          },
          "metadata": {},
          "execution_count": 82
        }
      ]
    },
    {
      "cell_type": "code",
      "source": [
        "total_fiveStars = helpful_votes_df.filter(\"star_rating==5\").count()\n",
        "total_fiveStars"
      ],
      "metadata": {
        "colab": {
          "base_uri": "https://localhost:8080/"
        },
        "id": "WXGavClb3KZQ",
        "outputId": "5def3dac-0204-4365-b304-8c3d8c5afd3c"
      },
      "execution_count": 67,
      "outputs": [
        {
          "output_type": "execute_result",
          "data": {
            "text/plain": [
              "44064"
            ]
          },
          "metadata": {},
          "execution_count": 67
        }
      ]
    },
    {
      "cell_type": "code",
      "source": [
        "paid_star = paid_df.filter(\"star_rating==5\").count()\n",
        "# paid_star_percent = paid_df.withColumn('star_percent', paid_df.filter('star_rating=='5'')/total_fiveStars * 100)\n",
        "paid_star"
      ],
      "metadata": {
        "colab": {
          "base_uri": "https://localhost:8080/"
        },
        "id": "lF_is_XsqB0_",
        "outputId": "7c056a9d-3f9a-4728-8468-1b68518dd3d4"
      },
      "execution_count": 77,
      "outputs": [
        {
          "output_type": "execute_result",
          "data": {
            "text/plain": [
              "229"
            ]
          },
          "metadata": {},
          "execution_count": 77
        }
      ]
    },
    {
      "cell_type": "code",
      "source": [
        "paid_star_percent = paid_star / total_paid * 100\n",
        "paid_star_percent "
      ],
      "metadata": {
        "colab": {
          "base_uri": "https://localhost:8080/"
        },
        "id": "hJQGw8NHwfPP",
        "outputId": "f2302bab-2d43-4046-a367-aa99b49089f6"
      },
      "execution_count": 81,
      "outputs": [
        {
          "output_type": "execute_result",
          "data": {
            "text/plain": [
              "34.80243161094225"
            ]
          },
          "metadata": {},
          "execution_count": 81
        }
      ]
    },
    {
      "cell_type": "code",
      "source": [
        "unpaid_star = unpaid_df.filter(\"star_rating==5\").count()\n",
        "unpaid_star"
      ],
      "metadata": {
        "colab": {
          "base_uri": "https://localhost:8080/"
        },
        "id": "F5Zi7_yOwCa1",
        "outputId": "d0d17644-946d-4d95-cf6c-0c0b002ffc18"
      },
      "execution_count": 70,
      "outputs": [
        {
          "output_type": "execute_result",
          "data": {
            "text/plain": [
              "43835"
            ]
          },
          "metadata": {},
          "execution_count": 70
        }
      ]
    },
    {
      "cell_type": "code",
      "source": [
        "unpaid_star_percent = unpaid_star / total_unpaid * 100\n",
        "unpaid_star_percent "
      ],
      "metadata": {
        "colab": {
          "base_uri": "https://localhost:8080/"
        },
        "id": "A06cVfwjwuby",
        "outputId": "b4a175e0-e5b2-478e-dd4b-6e179d9f2a19"
      },
      "execution_count": 83,
      "outputs": [
        {
          "output_type": "execute_result",
          "data": {
            "text/plain": [
              "55.79172447148366"
            ]
          },
          "metadata": {},
          "execution_count": 83
        }
      ]
    }
  ]
}